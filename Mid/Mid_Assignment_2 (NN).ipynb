{
  "nbformat": 4,
  "nbformat_minor": 0,
  "metadata": {
    "colab": {
      "provenance": []
    },
    "kernelspec": {
      "name": "python3",
      "display_name": "Python 3"
    },
    "language_info": {
      "name": "python"
    }
  },
  "cells": [
    {
      "cell_type": "code",
      "execution_count": 1,
      "metadata": {
        "id": "bd2oHw8s-0k_"
      },
      "outputs": [],
      "source": [
        "import pandas as pd\n",
        "import numpy as np\n",
        "import matplotlib.pyplot as plt\n"
      ]
    },
    {
      "cell_type": "code",
      "source": [
        "df =pd.read_csv('synthetic_dataset_rules.csv')\n",
        "print(df)"
      ],
      "metadata": {
        "id": "36kx3eRuBbGv",
        "colab": {
          "base_uri": "https://localhost:8080/"
        },
        "outputId": "92996317-707a-4225-b4cf-cc2437ea6393"
      },
      "execution_count": 2,
      "outputs": [
        {
          "output_type": "stream",
          "name": "stdout",
          "text": [
            "     Feature1  Feature2  Feature3  Feature4  Label\n",
            "0    0.374540  0.950714  0.731994  0.598658      4\n",
            "1    0.156019  0.155995  0.058084  0.866176      0\n",
            "2    0.601115  0.708073  0.020584  0.969910      3\n",
            "3    0.832443  0.212339  0.181825  0.183405      4\n",
            "4    0.304242  0.524756  0.431945  0.291229      2\n",
            "..        ...       ...       ...       ...    ...\n",
            "495  0.186101  0.802643  0.458187  0.482969      4\n",
            "496  0.133480  0.080602  0.727939  0.496461      0\n",
            "497  0.436851  0.729508  0.765513  0.158908      4\n",
            "498  0.610225  0.135354  0.751375  0.656955      4\n",
            "499  0.956615  0.068958  0.057055  0.282187      4\n",
            "\n",
            "[500 rows x 5 columns]\n"
          ]
        }
      ]
    },
    {
      "cell_type": "code",
      "source": [
        "features = ['Feature1','Feature2','Feature3','Feature4']\n",
        "X = df[features]\n",
        "Y = df['Label'].values.reshape(-1,1)"
      ],
      "metadata": {
        "id": "toA6Qkhr0XB6"
      },
      "execution_count": 3,
      "outputs": []
    },
    {
      "cell_type": "code",
      "source": [
        "class NeuralNetwork(object):\n",
        "    def __init__(self):\n",
        "        inputLayerNeurons = 4\n",
        "        hiddenLayer1Neurons = 10\n",
        "        hiddenLayer2Neurons = 8\n",
        "        outLayerNeurons = 1\n",
        "\n",
        "        self.learning_rate = 0.2\n",
        "        self.W_HI = np.random.randn(inputLayerNeurons, hiddenLayer1Neurons)\n",
        "        self.W_HI1 = np.random.randn(hiddenLayer1Neurons, hiddenLayer2Neurons)\n",
        "        self.W_OH = np.random.randn(hiddenLayer2Neurons, outLayerNeurons)\n",
        "\n",
        "    def sigmoid(self, x, der=False):\n",
        "        if der:\n",
        "            return x * (1 - x)\n",
        "        else:\n",
        "            return 1 / (1 + np.exp(-x))\n",
        "\n",
        "    def feedForward(self, X):\n",
        "        self.input = X\n",
        "        self.hidden_input = np.dot(X, self.W_HI)\n",
        "        self.hidden_output = self.sigmoid(self.hidden_input)\n",
        "\n",
        "        self.hidden_input1 = np.dot(self.hidden_output, self.W_HI1)\n",
        "        self.hidden_output1 = self.sigmoid(self.hidden_input1)\n",
        "\n",
        "        self.output_input = np.dot(self.hidden_output1, self.W_OH)\n",
        "        self.pred = self.sigmoid(self.output_input)\n",
        "        return self.pred\n",
        "\n",
        "    def backPropagation(self, Y):\n",
        "        # Output layer error\n",
        "        output_error = Y - self.pred\n",
        "        output_delta = output_error * self.sigmoid(self.pred, der=True)\n",
        "\n",
        "        # Hidden Layer 2 error\n",
        "        hidden_error1 = output_delta.dot(self.W_OH.T)\n",
        "        hidden_delta1 = hidden_error1 * self.sigmoid(self.hidden_output1, der=True)\n",
        "\n",
        "        # Hidden Layer 1 error\n",
        "        hidden_error0 = hidden_delta1.dot(self.W_HI1.T)\n",
        "        hidden_delta0 = hidden_error0 * self.sigmoid(self.hidden_output, der=True)\n",
        "\n",
        "        # Update weights\n",
        "        self.W_OH += self.hidden_output1.T.dot(output_delta) * self.learning_rate\n",
        "        self.W_HI1 += self.hidden_output.T.dot(hidden_delta1) * self.learning_rate\n",
        "        self.W_HI += self.input.T.dot(hidden_delta0) * self.learning_rate\n",
        "\n",
        "    def train(self, X, Y):\n",
        "        self.feedForward(X)\n",
        "        self.backPropagation(Y)\n"
      ],
      "metadata": {
        "id": "lDT7FPWv1R-N"
      },
      "execution_count": 4,
      "outputs": []
    },
    {
      "cell_type": "code",
      "source": [
        "NN = NeuralNetwork()\n",
        "err = []\n",
        "\n",
        "for i in range(10000):\n",
        "    NN.train(X, Y)\n",
        "    err.append(np.mean(np.square(Y - NN.feedForward(X))))\n",
        "\n",
        "plt.plot(err)"
      ],
      "metadata": {
        "colab": {
          "base_uri": "https://localhost:8080/",
          "height": 447
        },
        "id": "D22GfoKi4BGi",
        "outputId": "f5a7723e-792c-4df0-8fbe-3cd15b329d00"
      },
      "execution_count": 5,
      "outputs": [
        {
          "output_type": "execute_result",
          "data": {
            "text/plain": [
              "[<matplotlib.lines.Line2D at 0x7bf37b32fb50>]"
            ]
          },
          "metadata": {},
          "execution_count": 5
        },
        {
          "output_type": "display_data",
          "data": {
            "text/plain": [
              "<Figure size 640x480 with 1 Axes>"
            ],
            "image/png": "[encoded data removed]"
          },
          "metadata": {}
        }
      ]
    },
    {
      "cell_type": "markdown",
      "source": [
        "# New Section"
      ],
      "metadata": {
        "id": "75g9c75eBTIN"
      }
    }
  ]
}