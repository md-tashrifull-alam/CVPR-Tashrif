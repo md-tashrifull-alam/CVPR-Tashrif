{
  "nbformat": 4,
  "nbformat_minor": 0,
  "metadata": {
    "colab": {
      "provenance": []
    },
    "kernelspec": {
      "name": "python3",
      "display_name": "Python 3"
    },
    "language_info": {
      "name": "python"
    }
  },
  "cells": [
    {
      "cell_type": "code",
      "execution_count": 3,
      "metadata": {
        "id": "bd2oHw8s-0k_"
      },
      "outputs": [],
      "source": [
        "import pandas as pd\n",
        "import numpy as np\n",
        "import matplotlib.pyplot as plt\n"
      ]
    },
    {
      "cell_type": "code",
      "source": [
        "df =pd.read_csv('synthetic_dataset_rules.csv')\n",
        "print(df)"
      ],
      "metadata": {
        "id": "36kx3eRuBbGv",
        "colab": {
          "base_uri": "https://localhost:8080/"
        },
        "outputId": "248aa886-39b2-4780-a77c-ee381ba2dd99"
      },
      "execution_count": 4,
      "outputs": [
        {
          "output_type": "stream",
          "name": "stdout",
          "text": [
            "     Feature1  Feature2  Feature3  Feature4  Label\n",
            "0    0.374540  0.950714  0.731994  0.598658      4\n",
            "1    0.156019  0.155995  0.058084  0.866176      0\n",
            "2    0.601115  0.708073  0.020584  0.969910      3\n",
            "3    0.832443  0.212339  0.181825  0.183405      4\n",
            "4    0.304242  0.524756  0.431945  0.291229      2\n",
            "..        ...       ...       ...       ...    ...\n",
            "495  0.186101  0.802643  0.458187  0.482969      4\n",
            "496  0.133480  0.080602  0.727939  0.496461      0\n",
            "497  0.436851  0.729508  0.765513  0.158908      4\n",
            "498  0.610225  0.135354  0.751375  0.656955      4\n",
            "499  0.956615  0.068958  0.057055  0.282187      4\n",
            "\n",
            "[500 rows x 5 columns]\n"
          ]
        }
      ]
    },
    {
      "cell_type": "code",
      "source": [
        "features = ['Feature1','Feature2','Feature3','Feature4']\n",
        "X = df[features]\n",
        "Y = df[['Label']].values"
      ],
      "metadata": {
        "id": "toA6Qkhr0XB6"
      },
      "execution_count": 10,
      "outputs": []
    },
    {
      "cell_type": "code",
      "source": [
        "X_min = X.min(axis=0)\n",
        "X_max = X.max(axis=0)\n",
        "X_scaled = (X - X_min) / (X_max - X_min + 1e-8)\n",
        "\n",
        "Y_min = Y.min(axis=0)\n",
        "Y_max = Y.max(axis=0)\n",
        "Y_scaled = (Y - Y_min) / (Y_max - Y_min + 1e-8)"
      ],
      "metadata": {
        "id": "9AATmNXUDA8w"
      },
      "execution_count": 11,
      "outputs": []
    },
    {
      "cell_type": "code",
      "source": [
        "def train_test_split(X, Y, test_size=0.2, random_state=None):\n",
        "    if random_state:\n",
        "        np.random.seed(random_state)\n",
        "    n_samples = X.shape[0]\n",
        "    n_test = int(n_samples * test_size)\n",
        "    indices = np.random.permutation(n_samples)\n",
        "    test_indices = indices[:n_test]\n",
        "    train_indices = indices[n_test:]\n",
        "\n",
        "    return X.iloc[train_indices], X.iloc[test_indices], Y[train_indices], Y[test_indices]\n",
        "\n",
        "X_train, X_test, Y_train, Y_test = train_test_split(X_scaled, Y_scaled, test_size=0.2, random_state=8)\n",
        "Y_train_labels = np.argmax(Y_train, axis=1)\n",
        "Y_test_labels = np.argmax(Y_test, axis=1)"
      ],
      "metadata": {
        "id": "vtH8G3z2DXXM"
      },
      "execution_count": 12,
      "outputs": []
    },
    {
      "cell_type": "code",
      "source": [
        "class NeuralNetwork(object):\n",
        "    def __init__(self):\n",
        "        inputLayerNeurons = 4\n",
        "        hiddenLayer1Neurons = 10\n",
        "        hiddenLayer2Neurons = 8\n",
        "        hiddenLayer3Neurons = 5\n",
        "        outLayerNeurons = 4\n",
        "\n",
        "        self.learning_rate = 0.005\n",
        "        self.W_HI = np.random.randn(inputLayerNeurons, hiddenLayer1Neurons)\n",
        "        self.W_HI1 = np.random.randn(hiddenLayer1Neurons, hiddenLayer2Neurons)\n",
        "        self.W_HI2 = np.random.randn(hiddenLayer2Neurons, hiddenLayer3Neurons)\n",
        "        self.W_OH = np.random.randn(hiddenLayer3Neurons, outLayerNeurons)\n",
        "\n",
        "    def sigmoid(self, x, der=False):\n",
        "        if der:\n",
        "            return x * (1 - x)\n",
        "        else:\n",
        "            return 1 / (1 + np.exp(-x))\n",
        "\n",
        "    def feedForward(self, X):\n",
        "        self.input = X\n",
        "        self.hidden_input = np.dot(X, self.W_HI)\n",
        "        self.hidden_output = self.sigmoid(self.hidden_input)\n",
        "\n",
        "        self.hidden_input1 = np.dot(self.hidden_output, self.W_HI1)\n",
        "        self.hidden_output1 = self.sigmoid(self.hidden_input1)\n",
        "\n",
        "        self.hidden_input2 = np.dot(self.hidden_output1, self.W_HI2)\n",
        "        self.hidden_output2 = self.sigmoid(self.hidden_input2)\n",
        "\n",
        "        self.output_input = np.dot(self.hidden_output2, self.W_OH)\n",
        "        self.pred = self.sigmoid(self.output_input)\n",
        "        return self.pred\n",
        "\n",
        "    def backPropagation(self, X, Y, pred):\n",
        "        output_error = Y - pred\n",
        "        output_delta = output_error * self.sigmoid(pred, True)\n",
        "\n",
        "        hidden3_error = output_delta.dot(self.W_OH.T)\n",
        "        hidden3_delta = hidden3_error * self.sigmoid(self.hidden_output2, True)\n",
        "\n",
        "        hidden2_error = hidden3_delta.dot(self.W_HI2.T)\n",
        "        hidden2_delta = hidden2_error * self.sigmoid(self.hidden_output1, True)\n",
        "\n",
        "        hidden1_error = hidden2_delta.dot(self.W_HI1.T)\n",
        "        hidden1_delta = hidden1_error * self.sigmoid(self.hidden_output, True)\n",
        "\n",
        "\n",
        "        self.W_OH += self.hidden_output2.T.dot(output_delta) * self.learning_rate\n",
        "        self.W_HI2 += self.hidden_output1.T.dot(hidden3_delta) * self.learning_rate\n",
        "        self.W_HI1 += self.hidden_output.T.dot(hidden2_delta) * self.learning_rate\n",
        "        self.W_HI += X.T.dot(hidden1_delta) * self.learning_rate\n",
        "\n",
        "\n",
        "    def train(self, X, Y):\n",
        "        output = self.feedForward(X)\n",
        "        self.backPropagation(X, Y, output)"
      ],
      "metadata": {
        "id": "lDT7FPWv1R-N"
      },
      "execution_count": 13,
      "outputs": []
    },
    {
      "cell_type": "code",
      "source": [
        "NN = NeuralNetwork()\n",
        "\n",
        "err = []\n",
        "for i in range(10000):\n",
        "  NN.train(X_train, Y_train)\n",
        "  err.append(np.mean(np.abs(Y_train - NN.feedForward(X_train))))\n",
        "plt.plot(err)\n",
        "plt.xlabel(\"Epochs\")\n",
        "plt.ylabel(\"Error\")\n",
        "plt.title(\"Error vs Epochs\")\n",
        "plt.show()"
      ],
      "metadata": {
        "colab": {
          "base_uri": "https://localhost:8080/",
          "height": 472
        },
        "id": "D22GfoKi4BGi",
        "outputId": "bb0786d7-9e37-404f-8b93-b0223309a476"
      },
      "execution_count": 14,
      "outputs": [
        {
          "output_type": "display_data",
          "data": {
            "text/plain": [
              "<Figure size 640x480 with 1 Axes>"
            ],
            "image/png": "[encoded data removed]"
          },
          "metadata": {}
        }
      ]
    },
    {
      "cell_type": "code",
      "source": [
        "def target(pred):\n",
        "    predicted_class = np.argmax(pred, axis=1)\n",
        "    target = predicted_class + 1\n",
        "    return target\n",
        "\n",
        "predictions = NN.feedForward(X_test)\n",
        "Y_pred = target(predictions)\n",
        "\n",
        "print(Y_pred)"
      ],
      "metadata": {
        "colab": {
          "base_uri": "https://localhost:8080/"
        },
        "id": "8nOgZK2fDfSd",
        "outputId": "585a3d8d-ff77-486e-e796-9fea1fadac46"
      },
      "execution_count": 15,
      "outputs": [
        {
          "output_type": "stream",
          "name": "stdout",
          "text": [
            "[3 2 3 2 2 2 2 2 2 3 2 3 2 3 2 2 4 3 3 2 3 2 2 2 1 2 2 2 2 2 2 2 3 2 3 2 3\n",
            " 3 3 2 3 3 2 2 2 2 3 3 2 2 2 2 2 3 2 2 3 3 4 2 2 3 2 2 2 2 3 2 2 2 2 3 2 2\n",
            " 2 2 2 2 2 3 2 2 2 2 1 2 2 3 2 2 2 3 2 2 2 2 2 3 2 4]\n"
          ]
        }
      ]
    },
    {
      "cell_type": "code",
      "source": [
        "def accuracy(y_true, y_pred):\n",
        "    correct_predictions = np.sum(y_true == y_pred)\n",
        "    total_predictions = len(y_true)\n",
        "    return correct_predictions / total_predictions\n",
        "\n",
        "Y_test_original = (Y_test * (Y_max - Y_min) + Y_min).astype(int)\n",
        "Y_test_target = target(Y_test_original)\n",
        "\n",
        "acc = accuracy(Y_test_target, Y_pred)\n",
        "print(f\"Accuracy: {acc}\")"
      ],
      "metadata": {
        "colab": {
          "base_uri": "https://localhost:8080/"
        },
        "id": "Y3Ydj8-KDjG6",
        "outputId": "1d750a6c-a905-4c23-a560-2b1cd4c74c1b"
      },
      "execution_count": 16,
      "outputs": [
        {
          "output_type": "stream",
          "name": "stdout",
          "text": [
            "Accuracy: 0.02\n"
          ]
        }
      ]
    },
    {
      "cell_type": "code",
      "source": [
        "predictions_test_probabilities = NN.feedForward(X_test)\n",
        "predictions_test_labels = np.argmax(predictions_test_probabilities, axis=1)\n",
        "\n",
        "def accuracy(y_true, y_pred):\n",
        "    return np.mean(y_true == y_pred)\n",
        "\n",
        "def precision(y_true, y_pred, class_label):\n",
        "    tp = np.sum((y_true == class_label) & (y_pred == class_label))\n",
        "    fp = np.sum((y_true != class_label) & (y_pred == class_label))\n",
        "    return tp / (tp + fp + 1e-8)\n",
        "\n",
        "def recall(y_true, y_pred, class_label):\n",
        "    tp = np.sum((y_true == class_label) & (y_pred == class_label))\n",
        "    fn = np.sum((y_true == class_label) & (y_pred != class_label))\n",
        "    return tp / (tp + fn + 1e-8)\n",
        "\n",
        "def f1_score(precision, recall):\n",
        "    return 2 * (precision * recall) / (precision + recall + 1e-8)\n",
        "\n",
        "overall_accuracy = accuracy(Y_test_labels, predictions_test_labels)\n",
        "print(f\"Overall Accuracy: {overall_accuracy:.4f}\")\n",
        "\n",
        "for i in range(4):\n",
        "    prec = precision(Y_test_labels, predictions_test_labels, i)\n",
        "    rec = recall(Y_test_labels, predictions_test_labels, i)\n",
        "    f1 = f1_score(prec, rec)\n",
        "    print(f\"Class {i+1}:\")\n",
        "    print(f\"  Precision: {prec:.4f}\")\n",
        "    print(f\"  Recall: {rec:.4f}\")\n",
        "    print(f\"  F1-Score: {f1:.4f}\")"
      ],
      "metadata": {
        "colab": {
          "base_uri": "https://localhost:8080/"
        },
        "id": "kwN107IaDph1",
        "outputId": "7cd40804-2c40-425e-fca5-3b32155f858c"
      },
      "execution_count": 17,
      "outputs": [
        {
          "output_type": "stream",
          "name": "stdout",
          "text": [
            "Overall Accuracy: 0.0200\n",
            "Class 1:\n",
            "  Precision: 1.0000\n",
            "  Recall: 0.0200\n",
            "  F1-Score: 0.0392\n",
            "Class 2:\n",
            "  Precision: 0.0000\n",
            "  Recall: 0.0000\n",
            "  F1-Score: 0.0000\n",
            "Class 3:\n",
            "  Precision: 0.0000\n",
            "  Recall: 0.0000\n",
            "  F1-Score: 0.0000\n",
            "Class 4:\n",
            "  Precision: 0.0000\n",
            "  Recall: 0.0000\n",
            "  F1-Score: 0.0000\n"
          ]
        }
      ]
    },
    {
      "cell_type": "code",
      "source": [
        "def roc_curve_per_class(y_true, y_scores, num_classes):\n",
        "    if y_true.shape[1] == 1:\n",
        "        y_true_onehot = np.zeros((y_true.shape[0], num_classes))\n",
        "        for i, val in enumerate(y_true.flatten()):\n",
        "            y_true_onehot[i, int(val)] = 1\n",
        "        y_true = y_true_onehot\n",
        "\n",
        "    fpr_all = []\n",
        "    tpr_all = []\n",
        "    for class_idx in range(num_classes):\n",
        "        fpr = []\n",
        "        tpr = []\n",
        "        thresholds = sorted(np.unique(y_scores[:, class_idx]), reverse=True)\n",
        "        for threshold in thresholds:\n",
        "            y_pred = (y_scores[:, class_idx] >= threshold).astype(int)\n",
        "            tp = np.sum((y_true[:, class_idx] == 1) & (y_pred == 1))\n",
        "            fp = np.sum((y_true[:, class_idx] == 0) & (y_pred == 1))\n",
        "            tn = np.sum((y_true[:, class_idx] == 0) & (y_pred == 0))\n",
        "            fn = np.sum((y_true[:, class_idx] == 1) & (y_pred == 0))\n",
        "\n",
        "            if (tp + fn) == 0:\n",
        "                tpr_val = 0\n",
        "            else:\n",
        "                tpr_val = tp / (tp + fn)\n",
        "\n",
        "            if (fp + tn) == 0:\n",
        "                fpr_val = 0\n",
        "            else:\n",
        "                fpr_val = fp / (fp + tn)\n",
        "            fpr.append(fpr_val)\n",
        "            tpr.append(tpr_val)\n",
        "        fpr_all.append(fpr)\n",
        "        tpr_all.append(tpr)\n",
        "\n",
        "    plt.figure(figsize=(10, 8))\n",
        "    for i in range(num_classes):\n",
        "        plt.plot(fpr_all[i], tpr_all[i], label=f'Class {i + 1}')\n",
        "\n",
        "    plt.plot([0, 1], [0, 1], linestyle='--', color='yellow')\n",
        "    plt.xlabel('False Positive Rate')\n",
        "    plt.ylabel('True Positive Rate')\n",
        "    plt.title('ROC Curve')\n",
        "    plt.legend()\n",
        "    plt.grid(True)\n",
        "    plt.show()\n",
        "    return fpr_all, tpr_all\n",
        "\n",
        "fpr_all, tpr_all = roc_curve_per_class(Y_test, predictions, 4)"
      ],
      "metadata": {
        "colab": {
          "base_uri": "https://localhost:8080/",
          "height": 718
        },
        "id": "pl-Q75sDDssk",
        "outputId": "d2ba832c-f9ce-47fc-c3b0-80eedf741394"
      },
      "execution_count": 25,
      "outputs": [
        {
          "output_type": "display_data",
          "data": {
            "text/plain": [
              "<Figure size 1000x800 with 1 Axes>"
            ],
            "image/png": "[encoded data removed]"
          },
          "metadata": {}
        }
      ]
    },
    {
      "cell_type": "markdown",
      "source": [
        "# New Section"
      ],
      "metadata": {
        "id": "75g9c75eBTIN"
      }
    }
  ]
}